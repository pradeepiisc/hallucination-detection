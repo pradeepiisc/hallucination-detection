{
 "cells": [
  {
   "cell_type": "markdown",
   "id": "c5a3d8ee-2745-4410-a614-50c6a0e9897f",
   "metadata": {},
   "source": [
    "# Summary evaluation using knowledge graphs"
   ]
  },
  {
   "cell_type": "code",
   "execution_count": null,
   "id": "1eddfbef-4ec5-4c80-b6ea-27f40b37ab50",
   "metadata": {},
   "outputs": [],
   "source": [
    "# !pip install sentence_transformers\n",
    "import json\n",
    "from sentence_transformers import SentenceTransformer, util\n"
   ]
  },
  {
   "cell_type": "markdown",
   "id": "ad3a6989-d4b6-4bf2-aae1-688d9b4a187e",
   "metadata": {},
   "source": [
    "## Load the triplets "
   ]
  },
  {
   "cell_type": "code",
   "execution_count": 3,
   "id": "a1e55f76-940e-4fac-afc6-3050becb9fc8",
   "metadata": {},
   "outputs": [],
   "source": [
    "\n",
    "with open(\"../../data/reference_output/context_triplets.txt\", \"r\") as fp:\n",
    "    ref_triplets = json.load(fp)"
   ]
  },
  {
   "cell_type": "code",
   "execution_count": 5,
   "id": "319c4b2c-2560-43c6-b201-14253cd95e6c",
   "metadata": {},
   "outputs": [
    {
     "data": {
      "text/plain": [
       "[{'label': 'Launched', 'from': 'City council', 'to': 'Green initiative'},\n",
       " {'label': 'Aimed at',\n",
       "  'from': 'Green initiative',\n",
       "  'to': 'Reducing air pollution'}]"
      ]
     },
     "execution_count": 5,
     "metadata": {},
     "output_type": "execute_result"
    }
   ],
   "source": [
    "ref_triplets[:2]"
   ]
  },
  {
   "cell_type": "code",
   "execution_count": 6,
   "id": "d86e2f9b-833b-4a4e-b276-338819c919f2",
   "metadata": {},
   "outputs": [],
   "source": [
    "with open(\"../../data/summary_output/summary_triplets2.txt\", \"r\") as fp:\n",
    "    summary_triplets = json.load(fp)"
   ]
  },
  {
   "cell_type": "code",
   "execution_count": 7,
   "id": "b67ac662-53c4-474d-af55-fb9cb40d4b66",
   "metadata": {},
   "outputs": [
    {
     "data": {
      "text/plain": [
       "[{'label': 'Announced', 'from': 'City council', 'to': 'Green initiative'},\n",
       " {'label': 'Designed to tackle',\n",
       "  'from': 'Green initiative',\n",
       "  'to': 'Air pollution'}]"
      ]
     },
     "execution_count": 7,
     "metadata": {},
     "output_type": "execute_result"
    }
   ],
   "source": [
    "summary_triplets[:2]"
   ]
  },
  {
   "cell_type": "markdown",
   "id": "334fa87a-8f48-4206-a133-89b44be4c6a4",
   "metadata": {},
   "source": [
    "### Get tuples from json"
   ]
  },
  {
   "cell_type": "code",
   "execution_count": 18,
   "id": "5539d40e-9b13-43be-a794-eda669cf3e75",
   "metadata": {},
   "outputs": [],
   "source": [
    "def json_unravel(triplets_json):\n",
    "    list_of_list = []\n",
    "    for each_triplet in triplets_json:\n",
    "        list_of_list.append([each_triplet['from'], each_triplet['label'], each_triplet['to']])\n",
    "    return list_of_list\n",
    "    "
   ]
  },
  {
   "cell_type": "code",
   "execution_count": 19,
   "id": "a3e42da0-306f-49d9-a8d0-4d3f5c0fa187",
   "metadata": {},
   "outputs": [],
   "source": [
    "ref_triplet_tuple = json_unravel(ref_triplets)\n",
    "summary_triplet_tuple = json_unravel(summary_triplets)"
   ]
  },
  {
   "cell_type": "code",
   "execution_count": 20,
   "id": "6136f50d-8e97-4aa1-a029-f8aefaed000b",
   "metadata": {},
   "outputs": [
    {
     "data": {
      "text/plain": [
       "[['City council', 'Launched', 'Green initiative'],\n",
       " ['Green initiative', 'Aimed at', 'Reducing air pollution']]"
      ]
     },
     "execution_count": 20,
     "metadata": {},
     "output_type": "execute_result"
    }
   ],
   "source": [
    "ref_triplet_tuple[:2]"
   ]
  },
  {
   "cell_type": "code",
   "execution_count": 21,
   "id": "981ffaa6-e264-497b-8da4-305e285c63e1",
   "metadata": {},
   "outputs": [
    {
     "data": {
      "text/plain": [
       "[['City council', 'Announced', 'Green initiative'],\n",
       " ['Green initiative', 'Designed to tackle', 'Air pollution']]"
      ]
     },
     "execution_count": 21,
     "metadata": {},
     "output_type": "execute_result"
    }
   ],
   "source": [
    "summary_triplet_tuple[:2]"
   ]
  },
  {
   "cell_type": "markdown",
   "id": "961d27f2-a256-41d7-8b05-0054f455fe35",
   "metadata": {},
   "source": [
    "###### NOTE\n",
    "1. The entities may not be matching exactly but be synonym of each other\n",
    "2. The entities may not be ordered in the same order "
   ]
  },
  {
   "cell_type": "markdown",
   "id": "bdfb3639-030d-47a6-a87e-d30573074f4f",
   "metadata": {},
   "source": [
    "## Compute Similarity"
   ]
  },
  {
   "cell_type": "markdown",
   "id": "afa156af-7abe-4fc2-a260-6419f247cbe7",
   "metadata": {},
   "source": [
    "##### There are different ways to compute the similarity between the tripletse or evaluate the summary against the reference:\n",
    "1. Take the triplet and join it with a delimiter like space or newline and compare the resulting two sentences\n",
    "2. Compare each entity of thetriplet and take decision accordingly\n",
    "\n",
    "**We will focus on the first approach here**"
   ]
  },
  {
   "cell_type": "code",
   "execution_count": 11,
   "id": "bfeb863d-5159-4127-ad2d-e5df71cee636",
   "metadata": {},
   "outputs": [
    {
     "name": "stderr",
     "output_type": "stream",
     "text": [
      "/Users/pradeep.bansal1/Projects/knowledge_graph/.venv/lib/python3.12/site-packages/sentence_transformers/cross_encoder/CrossEncoder.py:11: TqdmExperimentalWarning: Using `tqdm.autonotebook.tqdm` in notebook mode. Use `tqdm.tqdm` instead to force console mode (e.g. in jupyter console)\n",
      "  from tqdm.autonotebook import tqdm, trange\n",
      "/Users/pradeep.bansal1/Projects/knowledge_graph/.venv/lib/python3.12/site-packages/huggingface_hub/file_download.py:1132: FutureWarning: `resume_download` is deprecated and will be removed in version 1.0.0. Downloads always resume when possible. If you want to force a new download, use `force_download=True`.\n",
      "  warnings.warn(\n"
     ]
    }
   ],
   "source": [
    "sentence_sim_model = SentenceTransformer('sentence-transformers/all-MiniLM-L6-v2')"
   ]
  },
  {
   "cell_type": "code",
   "execution_count": 33,
   "id": "ba372c01-b848-4e66-be13-397ff0a7fe5a",
   "metadata": {},
   "outputs": [],
   "source": [
    "def context_summary_similarity(summary, context, model):\n",
    "    embeddings = {}\n",
    "    scores = []\n",
    "    min_scores = []\n",
    "    for summary_sent in summary:\n",
    "        modified_sent = \" \".join(summary_sent)\n",
    "        # print(modified_sent)\n",
    "        summary_embedding= model.encode(modified_sent, convert_to_tensor=True)\n",
    "        min_score = 0.0\n",
    "        # Get the best matching context triplet for the current summary triplet\n",
    "        for context_index, context_sent in enumerate(context):\n",
    "            #Compute embedding for both lists\n",
    "            # print(\" \".join(context_sent))\n",
    "            # WE retrieve the already computed embedding if it exists in the embeddings dictionary\n",
    "            ref_embedding = embeddings.get(context_index, \n",
    "                                         model.encode(\" \".join(context_sent), convert_to_tensor=True))\n",
    "            embeddings[context_index] =  ref_embedding\n",
    "            score = util.pytorch_cos_sim(summary_embedding, ref_embedding)\n",
    "\n",
    "            if min_score < score:\n",
    "                min_score = score\n",
    "                min_index = context_index\n",
    "\n",
    "        min_scores.append({\"context\": context[min_index],\n",
    "                           \"summary\": summary_sent,\n",
    "                           \"similarity\": min_score})\n",
    "    return min_scores"
   ]
  },
  {
   "cell_type": "markdown",
   "id": "81155071-3184-4cac-830c-f990f8db9c97",
   "metadata": {},
   "source": []
  },
  {
   "cell_type": "code",
   "execution_count": 34,
   "id": "8397a5f0-b32e-4656-b8a6-b6f89ed8467a",
   "metadata": {},
   "outputs": [],
   "source": [
    "# This is a slow call becaues of m x n calls to the similarity computing transformer\n",
    "summary_triplet_best_matches = context_summary_similarity(summary_triplet_tuple, \n",
    "                                       ref_triplet_tuple, \n",
    "                                       sentence_sim_model)"
   ]
  },
  {
   "cell_type": "code",
   "execution_count": 35,
   "id": "f822311e-b350-4ee0-8615-e6a09c9b6739",
   "metadata": {},
   "outputs": [
    {
     "data": {
      "text/plain": [
       "[{'context': ['City council', 'Launched', 'Green initiative'],\n",
       "  'summary': ['City council', 'Announced', 'Green initiative'],\n",
       "  'similarity': tensor([[0.9711]], device='mps:0')},\n",
       " {'context': ['Green initiative', 'Aimed at', 'Reducing air pollution'],\n",
       "  'summary': ['Green initiative', 'Designed to tackle', 'Air pollution'],\n",
       "  'similarity': tensor([[0.9728]], device='mps:0')},\n",
       " {'context': ['Green initiative',\n",
       "   'Aimed at',\n",
       "   'Promoting environmental sustainability'],\n",
       "  'summary': ['Green initiative',\n",
       "   'Designed to enhance',\n",
       "   'Environmental sustainability'],\n",
       "  'similarity': tensor([[0.9680]], device='mps:0')},\n",
       " {'context': ['Initiative', 'Includes', 'Creating bike lanes'],\n",
       "  'summary': ['Plan', 'Involves', 'Expanding bike lanes'],\n",
       "  'similarity': tensor([[0.7210]], device='mps:0')},\n",
       " {'context': ['Initiative', 'Includes', 'Increasing charging stations'],\n",
       "  'summary': ['Plan',\n",
       "   'Involves',\n",
       "   'Boosting availability of electric vehicle charging stations'],\n",
       "  'similarity': tensor([[0.6933]], device='mps:0')}]"
      ]
     },
     "execution_count": 35,
     "metadata": {},
     "output_type": "execute_result"
    }
   ],
   "source": [
    "summary_triplet_best_matches[:5]"
   ]
  },
  {
   "cell_type": "code",
   "execution_count": 45,
   "id": "87c9e8ba-eac8-4f29-85a9-a83a25a1155a",
   "metadata": {},
   "outputs": [
    {
     "name": "stdout",
     "output_type": "stream",
     "text": [
      "Matched triplets: \n",
      "Summary triplet: ['Initiative', 'Includes', 'Controversial plan to reduce public transportation services']\n",
      "Reference triplet: ['Initiative', 'Includes', 'Increasing charging stations']\n",
      "Matching score: 0.5326859951019287\n",
      "\n",
      "Matched triplets: \n",
      "Summary triplet: ['Initiative', 'Includes', 'Controversial plan']\n",
      "Reference triplet: ['Initiative', 'Includes', 'Planting trees']\n",
      "Matching score: 0.5433995723724365\n",
      "\n",
      "Matched triplets: \n",
      "Summary triplet: ['Controversial plan to reduce public transportation services', 'Raised concerns among', 'Residents']\n",
      "Reference triplet: ['City council', 'Launched', 'Green initiative']\n",
      "Matching score: 0.391315758228302\n",
      "\n"
     ]
    }
   ],
   "source": [
    "for triplet_matched in summary_triplet_best_matches:\n",
    "    hallucinated = False\n",
    "    for each_entity in triplet_matched['summary']:\n",
    "        if 'Controversial' in each_entity:\n",
    "            hallucinated = True\n",
    "    \n",
    "    if hallucinated:\n",
    "        print(\"Matched triplets: \")\n",
    "        print(\"Summary triplet: {}\".format(triplet_matched['summary'])) \n",
    "        print(\"Reference triplet: {}\".format(triplet_matched['context']))\n",
    "        print(\"Matching score: {}\".format(triplet_matched['similarity'][0].tolist()[0]))\n",
    "        print()\n",
    "    \n",
    "    "
   ]
  },
  {
   "cell_type": "code",
   "execution_count": 46,
   "id": "bb527574-1366-468b-a8fe-eaee58581e8f",
   "metadata": {},
   "outputs": [
    {
     "name": "stdout",
     "output_type": "stream",
     "text": [
      "Matched triplets: \n",
      "Summary triplet: ['City council', 'Announced', 'Green initiative']\n",
      "Reference triplet: ['City council', 'Launched', 'Green initiative']\n",
      "Matching score: 0.971133828163147\n",
      "\n",
      "Matched triplets: \n",
      "Summary triplet: ['Green initiative', 'Designed to tackle', 'Air pollution']\n",
      "Reference triplet: ['Green initiative', 'Aimed at', 'Reducing air pollution']\n",
      "Matching score: 0.9727627038955688\n",
      "\n",
      "Matched triplets: \n",
      "Summary triplet: ['Green initiative', 'Designed to enhance', 'Environmental sustainability']\n",
      "Reference triplet: ['Green initiative', 'Aimed at', 'Promoting environmental sustainability']\n",
      "Matching score: 0.9679796099662781\n",
      "\n",
      "Matched triplets: \n",
      "Summary triplet: ['Plan', 'Involves', 'Expanding bike lanes']\n",
      "Reference triplet: ['Initiative', 'Includes', 'Creating bike lanes']\n",
      "Matching score: 0.7209548950195312\n",
      "\n",
      "Matched triplets: \n",
      "Summary triplet: ['Plan', 'Involves', 'Boosting availability of electric vehicle charging stations']\n",
      "Reference triplet: ['Initiative', 'Includes', 'Increasing charging stations']\n",
      "Matching score: 0.6932920813560486\n",
      "\n",
      "Matched triplets: \n",
      "Summary triplet: ['Plan', 'Reduce', 'Public transportation services']\n",
      "Reference triplet: ['Initiative', 'Includes', 'Creating bike lanes']\n",
      "Matching score: 0.38449597358703613\n",
      "\n",
      "Matched triplets: \n",
      "Summary triplet: ['Mayor jane smith', 'Highlighted', 'Critical role']\n",
      "Reference triplet: ['Jane smith', 'Emphasized', 'Importance of community involvement']\n",
      "Matching score: 0.7123993039131165\n",
      "\n",
      "Matched triplets: \n",
      "Summary triplet: ['Mayor jane smith', 'Highlighted', 'Critical role of community participation']\n",
      "Reference triplet: ['Jane smith', 'Emphasized', 'Importance of community involvement']\n",
      "Matching score: 0.8527737259864807\n",
      "\n",
      "Matched triplets: \n",
      "Summary triplet: ['Community participation', 'Ensures', \"Initiative's success\"]\n",
      "Reference triplet: ['Jane smith', 'Emphasized', 'Importance of community involvement']\n",
      "Matching score: 0.4847778081893921\n",
      "\n",
      "Matched triplets: \n",
      "Summary triplet: ['Initiative', 'Raised concerns among', 'Residents']\n",
      "Reference triplet: ['City council', 'Launched', 'Green initiative']\n",
      "Matching score: 0.5000982284545898\n",
      "\n",
      "Matched triplets: \n",
      "Summary triplet: ['Project', 'Commence', 'Next month']\n",
      "Reference triplet: ['Project', 'Is set to begin', 'Next month']\n",
      "Matching score: 0.8631049394607544\n",
      "\n",
      "Matched triplets: \n",
      "Summary triplet: ['Project', 'Starting with', 'Most polluted urban areas']\n",
      "Reference triplet: ['Project', 'Focusing on', 'Urban areas with the highest levels of pollution']\n",
      "Matching score: 0.8613767027854919\n",
      "\n"
     ]
    }
   ],
   "source": [
    "for triplet_matched in summary_triplet_best_matches:\n",
    "    hallucinated = False\n",
    "    for each_entity in triplet_matched['summary']:\n",
    "        if 'Controversial' in each_entity:\n",
    "            hallucinated = True\n",
    "    \n",
    "    if not hallucinated:\n",
    "        print(\"Matched triplets: \")\n",
    "        print(\"Summary triplet: {}\".format(triplet_matched['summary'])) \n",
    "        print(\"Reference triplet: {}\".format(triplet_matched['context']))\n",
    "        print(\"Matching score: {}\".format(triplet_matched['similarity'][0].tolist()[0]))\n",
    "        print()\n",
    "    \n",
    "    "
   ]
  },
  {
   "cell_type": "markdown",
   "id": "93099396-8f01-4802-91a6-8e2c5c1a7294",
   "metadata": {},
   "source": [
    "##### We showed above very curde way of comparing two triplets. \n",
    "Definitely this is not the best and the only way to compare two triplets. \n",
    "Ideally, one should do the entity to entity match but this also highlights the challenges.   "
   ]
  }
 ],
 "metadata": {
  "kernelspec": {
   "display_name": "Python 3 (ipykernel)",
   "language": "python",
   "name": "python3"
  },
  "language_info": {
   "codemirror_mode": {
    "name": "ipython",
    "version": 3
   },
   "file_extension": ".py",
   "mimetype": "text/x-python",
   "name": "python",
   "nbconvert_exporter": "python",
   "pygments_lexer": "ipython3",
   "version": "3.12.3"
  }
 },
 "nbformat": 4,
 "nbformat_minor": 5
}
