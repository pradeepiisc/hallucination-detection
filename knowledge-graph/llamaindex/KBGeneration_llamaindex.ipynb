{
 "cells": [
  {
   "cell_type": "markdown",
   "id": "c4f9ad2f-4184-4593-b07e-08f635cacce5",
   "metadata": {},
   "source": [
    "# Generate Knowledge graph triplets using llama-index "
   ]
  },
  {
   "cell_type": "code",
   "execution_count": null,
   "id": "e4084584-9f68-4957-95ec-93671b3ef6f4",
   "metadata": {},
   "outputs": [],
   "source": [
    "# %%capture\n",
    "# !pip install llama-index-embeddings-azure-openai\n",
    "# !pip install llama-index-llms-azure-openai\n",
    "# !pip install llama-index"
   ]
  },
  {
   "cell_type": "code",
   "execution_count": 1,
   "id": "96c02194-58ab-460c-b8fc-d27d21f97a6f",
   "metadata": {
    "tags": []
   },
   "outputs": [],
   "source": [
    "import os\n",
    "import logging\n",
    "import sys\n",
    "\n",
    "logging.basicConfig(stream=sys.stdout, level=logging.INFO)"
   ]
  },
  {
   "cell_type": "code",
   "execution_count": 2,
   "id": "58aa53ee-c7cf-454d-9475-5674032eff8e",
   "metadata": {},
   "outputs": [],
   "source": [
    "from llama_index.core import (\n",
    "    SimpleDirectoryReader,\n",
    "    ServiceContext,\n",
    "    KnowledgeGraphIndex,\n",
    ")\n",
    "from llama_index.core.graph_stores import SimpleGraphStore\n",
    "\n",
    "# from llama_index.llms.openai import OpenAI\n",
    "from llama_index.llms.azure_openai import AzureOpenAI\n",
    "# from IPython.display import Markdown, display"
   ]
  },
  {
   "cell_type": "markdown",
   "id": "5ae174ac-28a9-48b0-8635-ef02c2e5094a",
   "metadata": {},
   "source": [
    "## Read reference and summary text"
   ]
  },
  {
   "cell_type": "code",
   "execution_count": 3,
   "id": "d3644aae-0c11-422e-824a-65685c9df131",
   "metadata": {},
   "outputs": [
    {
     "name": "stdout",
     "output_type": "stream",
     "text": [
      "Title: City Introduces New Green Initiative to Combat Air Pollution\n",
      "\n",
      "Content:\n",
      "The city council has launched a new green initiative aimed at reducing air pollution and promoting environmental sustainability. The initiative includes planting 10,000 trees over the next two years, creating more bike lanes, and increasing the number of electric vehicle charging stations. Mayor Jane Smith emphasized the importance of community involvement in making the city a cleaner and healthier place to live. \"We are committed to improving air quality and reducing our carbon footprint,\" said Mayor Smith. The project is set to begin next month, with the first phase focusing on urban areas with the highest levels of pollution.\n"
     ]
    }
   ],
   "source": [
    "documents = SimpleDirectoryReader(\n",
    "    \"../../data/reference/\"\n",
    ").load_data()\n",
    "\n",
    "summary_docs = SimpleDirectoryReader(\n",
    "    \"../../data/summary/\"\n",
    ").load_data()\n",
    "\n",
    "print(documents[0].text)"
   ]
  },
  {
   "cell_type": "code",
   "execution_count": 4,
   "id": "e16a03c2-b658-478a-a782-50a7df625ed8",
   "metadata": {},
   "outputs": [
    {
     "name": "stdout",
     "output_type": "stream",
     "text": [
      "The city council has announced a comprehensive green initiative designed to tackle air pollution and enhance environmental sustainability. Key components of the plan involve planting 10,000 trees, expanding bike lanes, and boosting the availability of electric vehicle charging stations. Mayor Jane Smith highlighted the critical role of community participation in ensuring the initiative's success. Interestingly, the initiative also includes a controversial plan to reduce public transportation services, which has raised concerns among residents. The project will commence next month, starting with the most polluted urban areas.\n"
     ]
    }
   ],
   "source": [
    "print(summary_docs[0].text)"
   ]
  },
  {
   "cell_type": "markdown",
   "id": "85ad016c-3be5-44d7-9971-9aa58bfbeb39",
   "metadata": {},
   "source": [
    "## Define model params"
   ]
  },
  {
   "cell_type": "code",
   "execution_count": 29,
   "id": "4716b6d4-df38-4a9f-8763-37ac7ab6f6b4",
   "metadata": {},
   "outputs": [],
   "source": [
    "# Enter these fields only if using openai \n",
    "api_key = \"<OPEN AI KEY>\"\n",
    "model_name = \"gpt-3.5-turbo\"\n",
    "# model_name = \"gpt-3.5-turbo-instruct\""
   ]
  },
  {
   "cell_type": "code",
   "execution_count": null,
   "id": "5871ae5c-7cb4-417d-9d83-9dc7837f246c",
   "metadata": {},
   "outputs": [],
   "source": []
  },
  {
   "cell_type": "code",
   "execution_count": 5,
   "id": "441b54d4-4840-4b35-a9b9-3b65620b2c2d",
   "metadata": {},
   "outputs": [],
   "source": [
    "# For llamaindex's Azure open ai\n",
    "api_type = 'azure'\n",
    "api_key = \"<AZURE OPEN AI KEY>\"\n",
    "api_base = \"<ENTER AZURE DEPLOYMENT END POINT HERE>\"\n",
    "api_version=\"<API VERSION>\"\n",
    "deployment_name = \"<DEPLOYMENT NAME>\" \n",
    "model_name = \"gpt-35-turbo\""
   ]
  },
  {
   "cell_type": "code",
   "execution_count": 16,
   "id": "91bcbe48-ee7b-4e3a-b415-2c63d6df5767",
   "metadata": {},
   "outputs": [],
   "source": [
    "# Only useful if one is using openai instead of llama-index's openai library\n",
    "# import openai\n",
    "# openai.api_key = api_key\n",
    "# openai.api_base = api_base\n",
    "# openai.api_type = api_type\n",
    "# openai.api_version = api_version"
   ]
  },
  {
   "cell_type": "code",
   "execution_count": 6,
   "id": "b4e3fbaa-0632-472e-95b9-3fc18d08c692",
   "metadata": {},
   "outputs": [],
   "source": [
    "os.environ[\"OPENAI_API_KEY\"] = api_key"
   ]
  },
  {
   "cell_type": "code",
   "execution_count": 29,
   "id": "3abc9650-5870-4b36-8131-eef0743ad665",
   "metadata": {},
   "outputs": [
    {
     "name": "stderr",
     "output_type": "stream",
     "text": [
      "/var/folders/vq/29f_ls354d1f3l128cmgxk8r0000gp/T/ipykernel_91406/411264166.py:11: DeprecationWarning: Call to deprecated class method from_defaults. (ServiceContext is deprecated, please use `llama_index.settings.Settings` instead.) -- Deprecated since version 0.10.0.\n",
      "  service_context = ServiceContext.from_defaults(llm=llm, chunk_size=64, chunk_overlap=30)\n"
     ]
    }
   ],
   "source": [
    "llm = AzureOpenAI(\n",
    "    model=model_name,\n",
    "    deployment_name=deployment_name,\n",
    "    api_key=api_key,\n",
    "    azure_endpoint=api_base,\n",
    "    api_version=api_version,\n",
    ")\n",
    "\n",
    "# llm = OpenAI(temperature=0.1, model=model_name)"
   ]
  },
  {
   "cell_type": "markdown",
   "id": "67c4936d-ef21-46a4-a9d6-a9047c066b62",
   "metadata": {},
   "source": [
    "#### Effect of chunk size and max_triplets_per_chunk \n",
    "When the chunksize is kept high, say 512, since the number triplets are upper bounded by the max_triplets_per_chunk value, \n",
    "we may not get all the desired triplets. \n",
    "\n",
    "When we reduce the chunk size, the llm gets more chunks to return triplets and even if the triplets are limited per chunk\n",
    "each chunk should contribute to its own triplets and effectively, total triplets should increase. \n",
    "\n",
    "Hence one should keep the chunksize lower and max_triplets_per_chunk higher, to get exhaustive set of triplets. \n",
    "\n",
    "NOTE that the values should not be kept such that one starts getting noise in the graph.  "
   ]
  },
  {
   "cell_type": "code",
   "execution_count": null,
   "id": "c0a6973e-f39a-4e94-8953-512c70b0e679",
   "metadata": {},
   "outputs": [],
   "source": []
  },
  {
   "cell_type": "code",
   "execution_count": null,
   "id": "84791925-52b9-4d7a-887d-3a4f84c08098",
   "metadata": {},
   "outputs": [],
   "source": [
    "service_context = ServiceContext.from_defaults(llm=llm, chunk_size=512, chunk_overlap=200)\n",
    "service_context = ServiceContext.from_defaults(llm=llm, chunk_size=64, chunk_overlap=30)"
   ]
  },
  {
   "cell_type": "code",
   "execution_count": 30,
   "id": "f0379d75-a531-4684-8c01-c64bebb9d403",
   "metadata": {
    "tags": []
   },
   "outputs": [],
   "source": [
    "from llama_index.core.storage.storage_context import StorageContext\n",
    "\n",
    "graph_store = SimpleGraphStore()\n",
    "storage_context = StorageContext.from_defaults(graph_store=graph_store)"
   ]
  },
  {
   "cell_type": "markdown",
   "id": "8538b703-45a7-47fd-9b64-5c042d3814ca",
   "metadata": {},
   "source": [
    "## Create Knowledge graph for the reference"
   ]
  },
  {
   "cell_type": "code",
   "execution_count": 31,
   "id": "beb6bd4e-4f90-46ef-8262-b0e104c063b2",
   "metadata": {
    "tags": []
   },
   "outputs": [
    {
     "name": "stdout",
     "output_type": "stream",
     "text": [
      "Metadata length (21) is close to chunk size (64). Resulting chunks are less than 50 tokens. Consider increasing the chunk size or decreasing the size of your metadata to avoid this.\n",
      "INFO:httpx:HTTP Request: POST https://test-atg-openai-two.openai.azure.com//openai/deployments/gpt35-feb/chat/completions?api-version=2024-02-15-preview \"HTTP/1.1 200 OK\"\n",
      "INFO:httpx:HTTP Request: POST https://test-atg-openai-two.openai.azure.com//openai/deployments/gpt35-feb/chat/completions?api-version=2024-02-15-preview \"HTTP/1.1 200 OK\"\n",
      "INFO:httpx:HTTP Request: POST https://test-atg-openai-two.openai.azure.com//openai/deployments/gpt35-feb/chat/completions?api-version=2024-02-15-preview \"HTTP/1.1 200 OK\"\n",
      "INFO:httpx:HTTP Request: POST https://test-atg-openai-two.openai.azure.com//openai/deployments/gpt35-feb/chat/completions?api-version=2024-02-15-preview \"HTTP/1.1 200 OK\"\n"
     ]
    }
   ],
   "source": [
    "# NOTE: this can take few seconds!\n",
    "reference_index = KnowledgeGraphIndex.from_documents(\n",
    "    documents,\n",
    "    max_triplets_per_chunk=15,\n",
    "    storage_context=storage_context,\n",
    "    service_context=service_context,\n",
    "    include_embeddings=False,\n",
    ")\n"
   ]
  },
  {
   "cell_type": "code",
   "execution_count": 32,
   "id": "be110224-a481-43bf-ad30-68e43f3dd916",
   "metadata": {
    "tags": []
   },
   "outputs": [],
   "source": [
    "ref_query_engine = reference_index.as_query_engine(\n",
    "    include_text=False, response_mode=\"tree_summarize\"\n",
    ")\n"
   ]
  },
  {
   "cell_type": "code",
   "execution_count": 38,
   "id": "131079e1-cf76-49c0-b0ff-939d5a4e8261",
   "metadata": {
    "tags": []
   },
   "outputs": [],
   "source": [
    "# !pip install pyvis"
   ]
  },
  {
   "cell_type": "markdown",
   "id": "691ec118-82a1-4040-9862-88870514bdc3",
   "metadata": {},
   "source": [
    "## Create graph"
   ]
  },
  {
   "cell_type": "code",
   "execution_count": 33,
   "id": "1eac81dd-de5b-4c4f-8422-441b24709148",
   "metadata": {
    "tags": []
   },
   "outputs": [
    {
     "name": "stdout",
     "output_type": "stream",
     "text": [
      "reference.html\n"
     ]
    },
    {
     "data": {
      "text/html": [
       "\n",
       "        <iframe\n",
       "            width=\"100%\"\n",
       "            height=\"600px\"\n",
       "            src=\"reference.html\"\n",
       "            frameborder=\"0\"\n",
       "            allowfullscreen\n",
       "            \n",
       "        ></iframe>\n",
       "        "
      ],
      "text/plain": [
       "<IPython.lib.display.IFrame at 0x172dff9b0>"
      ]
     },
     "execution_count": 33,
     "metadata": {},
     "output_type": "execute_result"
    }
   ],
   "source": [
    "from pyvis.network import Network\n",
    "\n",
    "g = reference_index.get_networkx_graph()\n",
    "net = Network(notebook=True, cdn_resources=\"in_line\", directed=True)\n",
    "net.from_nx(g)\n",
    "net.show(\"reference.html\")"
   ]
  },
  {
   "cell_type": "code",
   "execution_count": 34,
   "id": "1c48861d-7317-401e-a251-79f230b652cb",
   "metadata": {},
   "outputs": [],
   "source": [
    "net.write_html(\"../../data/reference_output/reference_graph.html\",notebook=True)"
   ]
  },
  {
   "cell_type": "code",
   "execution_count": 35,
   "id": "a14100aa-5184-4b33-9a0a-b754ed9af7f8",
   "metadata": {
    "scrolled": true
   },
   "outputs": [
    {
     "data": {
      "text/plain": [
       "[{'label': 'Launched',\n",
       "  'title': 'Launched',\n",
       "  'width': 1,\n",
       "  'from': 'City council',\n",
       "  'to': 'Green initiative',\n",
       "  'arrows': 'to'},\n",
       " {'label': 'Aimed at',\n",
       "  'title': 'Aimed at',\n",
       "  'width': 1,\n",
       "  'from': 'Green initiative',\n",
       "  'to': 'Reducing air pollution',\n",
       "  'arrows': 'to'},\n",
       " {'label': 'Aimed at',\n",
       "  'title': 'Aimed at',\n",
       "  'width': 1,\n",
       "  'from': 'Green initiative',\n",
       "  'to': 'Promoting environmental sustainability',\n",
       "  'arrows': 'to'},\n",
       " {'label': 'Includes',\n",
       "  'title': 'Includes',\n",
       "  'width': 1,\n",
       "  'from': 'Initiative',\n",
       "  'to': 'Planting trees',\n",
       "  'arrows': 'to'},\n",
       " {'label': 'Includes',\n",
       "  'title': 'Includes',\n",
       "  'width': 1,\n",
       "  'from': 'Initiative',\n",
       "  'to': 'Creating bike lanes',\n",
       "  'arrows': 'to'},\n",
       " {'label': 'Includes',\n",
       "  'title': 'Includes',\n",
       "  'width': 1,\n",
       "  'from': 'Initiative',\n",
       "  'to': 'Increasing charging stations',\n",
       "  'arrows': 'to'},\n",
       " {'label': 'Emphasized',\n",
       "  'title': 'Emphasized',\n",
       "  'width': 1,\n",
       "  'from': 'Jane smith',\n",
       "  'to': 'Importance of community involvement',\n",
       "  'arrows': 'to'},\n",
       " {'label': 'Made cleaner and healthier by',\n",
       "  'title': 'Made cleaner and healthier by',\n",
       "  'width': 1,\n",
       "  'from': 'City',\n",
       "  'to': 'Community involvement',\n",
       "  'arrows': 'to'},\n",
       " {'label': 'Committed to',\n",
       "  'title': 'Committed to',\n",
       "  'width': 1,\n",
       "  'from': 'City',\n",
       "  'to': 'Improving air quality',\n",
       "  'arrows': 'to'},\n",
       " {'label': 'Committed to',\n",
       "  'title': 'Committed to',\n",
       "  'width': 1,\n",
       "  'from': 'City',\n",
       "  'to': 'Reducing carbon footprint',\n",
       "  'arrows': 'to'},\n",
       " {'label': 'Has',\n",
       "  'title': 'Has',\n",
       "  'width': 1,\n",
       "  'from': 'City',\n",
       "  'to': 'Air quality issues',\n",
       "  'arrows': 'to'},\n",
       " {'label': 'Committed to',\n",
       "  'title': 'Committed to',\n",
       "  'width': 1,\n",
       "  'from': 'Improving air quality',\n",
       "  'to': 'We',\n",
       "  'arrows': 'to'},\n",
       " {'label': 'Addresses',\n",
       "  'title': 'Addresses',\n",
       "  'width': 1,\n",
       "  'from': 'Air quality issues',\n",
       "  'to': 'Project',\n",
       "  'arrows': 'to'},\n",
       " {'label': 'Said',\n",
       "  'title': 'Said',\n",
       "  'width': 1,\n",
       "  'from': 'Mayor smith',\n",
       "  'to': 'We are committed to improving air quality and reducing our carbon footprint',\n",
       "  'arrows': 'to'},\n",
       " {'label': 'Represents',\n",
       "  'title': 'Represents',\n",
       "  'width': 1,\n",
       "  'from': 'Mayor smith',\n",
       "  'to': 'The city',\n",
       "  'arrows': 'to'},\n",
       " {'label': 'Is set to begin',\n",
       "  'title': 'Is set to begin',\n",
       "  'width': 1,\n",
       "  'from': 'Project',\n",
       "  'to': 'Next month',\n",
       "  'arrows': 'to'},\n",
       " {'label': 'Focusing on',\n",
       "  'title': 'Focusing on',\n",
       "  'width': 1,\n",
       "  'from': 'Project',\n",
       "  'to': 'Urban areas with the highest levels of pollution',\n",
       "  'arrows': 'to'},\n",
       " {'label': 'Has',\n",
       "  'title': 'Has',\n",
       "  'width': 1,\n",
       "  'from': 'Project',\n",
       "  'to': 'Phases',\n",
       "  'arrows': 'to'},\n",
       " {'label': 'Aims to',\n",
       "  'title': 'Aims to',\n",
       "  'width': 1,\n",
       "  'from': 'Project',\n",
       "  'to': 'Improve air quality',\n",
       "  'arrows': 'to'},\n",
       " {'label': 'Aims to',\n",
       "  'title': 'Aims to',\n",
       "  'width': 1,\n",
       "  'from': 'Project',\n",
       "  'to': 'Reduce carbon footprint',\n",
       "  'arrows': 'to'},\n",
       " {'label': 'Addresses',\n",
       "  'title': 'Addresses',\n",
       "  'width': 1,\n",
       "  'from': 'Project',\n",
       "  'to': 'Carbon footprint reduction',\n",
       "  'arrows': 'to'},\n",
       " {'label': 'Focusing on',\n",
       "  'title': 'Focusing on',\n",
       "  'width': 1,\n",
       "  'from': 'Urban areas with the highest levels of pollution',\n",
       "  'to': 'First phase',\n",
       "  'arrows': 'to'},\n",
       " {'label': 'Focus on',\n",
       "  'title': 'Focus on',\n",
       "  'width': 1,\n",
       "  'from': 'Phases',\n",
       "  'to': 'Different areas',\n",
       "  'arrows': 'to'},\n",
       " {'label': 'Have',\n",
       "  'title': 'Have',\n",
       "  'width': 1,\n",
       "  'from': 'Urban areas',\n",
       "  'to': 'Highest levels of pollution',\n",
       "  'arrows': 'to'},\n",
       " {'label': 'Committed to',\n",
       "  'title': 'Committed to',\n",
       "  'width': 1,\n",
       "  'from': 'We',\n",
       "  'to': 'Reducing our carbon footprint',\n",
       "  'arrows': 'to'}]"
      ]
     },
     "execution_count": 35,
     "metadata": {},
     "output_type": "execute_result"
    }
   ],
   "source": [
    "net.get_edges()"
   ]
  },
  {
   "cell_type": "code",
   "execution_count": 36,
   "id": "654f73d5-0c58-4218-8fb3-35b9537dce51",
   "metadata": {
    "scrolled": true
   },
   "outputs": [],
   "source": [
    "def extract_triplets(graph):\n",
    "    triplets = []\n",
    "    temp_dict  = {}\n",
    "    graph_edges = graph.get_edges()\n",
    "    for each_edge in graph_edges:\n",
    "        temp_dict['label'] = each_edge['label']\n",
    "        temp_dict['from'] = each_edge['from']\n",
    "        temp_dict['to'] = each_edge['to']\n",
    "        triplets.append(temp_dict)\n",
    "        temp_dict = {}\n",
    "    return triplets\n",
    "\n",
    "ref_triplets = extract_triplets(net)"
   ]
  },
  {
   "cell_type": "code",
   "execution_count": 37,
   "id": "911d53bf-09eb-4d21-b03a-c4f1bc1f84a0",
   "metadata": {},
   "outputs": [
    {
     "data": {
      "text/plain": [
       "25"
      ]
     },
     "execution_count": 37,
     "metadata": {},
     "output_type": "execute_result"
    }
   ],
   "source": [
    "len(ref_triplets)"
   ]
  },
  {
   "cell_type": "code",
   "execution_count": 38,
   "id": "1aa060c5-3fbe-4179-8503-5fc75ec93687",
   "metadata": {},
   "outputs": [],
   "source": [
    "import json\n",
    "with open(\"../../data/reference_output/context_triplets.txt\", \"w\") as fp:    \n",
    "    json.dump(ref_triplets, fp)"
   ]
  },
  {
   "cell_type": "markdown",
   "id": "e669b013-bfaa-4077-b89d-5b26fa20984f",
   "metadata": {},
   "source": [
    "## Create knowledge graph for the summary"
   ]
  },
  {
   "cell_type": "code",
   "execution_count": 63,
   "id": "cbc57ef6-a13a-4e22-b55a-67ba358805c6",
   "metadata": {},
   "outputs": [
    {
     "name": "stderr",
     "output_type": "stream",
     "text": [
      "/var/folders/vq/29f_ls354d1f3l128cmgxk8r0000gp/T/ipykernel_91406/480652066.py:3: DeprecationWarning: Call to deprecated class method from_defaults. (ServiceContext is deprecated, please use `llama_index.settings.Settings` instead.) -- Deprecated since version 0.10.0.\n",
      "  service_context_2 = ServiceContext.from_defaults(llm=llm, chunk_size=64, chunk_overlap=30)\n"
     ]
    }
   ],
   "source": [
    "graph_store2 = SimpleGraphStore()\n",
    "\n",
    "service_context_2 = ServiceContext.from_defaults(llm=llm, chunk_size=64, chunk_overlap=30)\n",
    "storage_context_2 = StorageContext.from_defaults(graph_store=graph_store2)"
   ]
  },
  {
   "cell_type": "code",
   "execution_count": 64,
   "id": "81a4e71d-19c3-4d85-969b-b0c13b6a971d",
   "metadata": {},
   "outputs": [
    {
     "name": "stdout",
     "output_type": "stream",
     "text": [
      "Metadata length (22) is close to chunk size (64). Resulting chunks are less than 50 tokens. Consider increasing the chunk size or decreasing the size of your metadata to avoid this.\n",
      "INFO:httpx:HTTP Request: POST https://test-atg-openai-two.openai.azure.com//openai/deployments/gpt35-feb/chat/completions?api-version=2024-02-15-preview \"HTTP/1.1 200 OK\"\n",
      "INFO:httpx:HTTP Request: POST https://test-atg-openai-two.openai.azure.com//openai/deployments/gpt35-feb/chat/completions?api-version=2024-02-15-preview \"HTTP/1.1 200 OK\"\n",
      "INFO:httpx:HTTP Request: POST https://test-atg-openai-two.openai.azure.com//openai/deployments/gpt35-feb/chat/completions?api-version=2024-02-15-preview \"HTTP/1.1 200 OK\"\n",
      "INFO:httpx:HTTP Request: POST https://test-atg-openai-two.openai.azure.com//openai/deployments/gpt35-feb/chat/completions?api-version=2024-02-15-preview \"HTTP/1.1 200 OK\"\n",
      "INFO:httpx:HTTP Request: POST https://test-atg-openai-two.openai.azure.com//openai/deployments/gpt35-feb/chat/completions?api-version=2024-02-15-preview \"HTTP/1.1 200 OK\"\n"
     ]
    }
   ],
   "source": [
    "summary_index = KnowledgeGraphIndex.from_documents(\n",
    "    summary_docs,\n",
    "    max_triplets_per_chunk=10,\n",
    "    storage_context=storage_context_2,\n",
    "    service_context=service_context_2,\n",
    ")\n",
    "\n",
    "summary_query_engine = summary_index.as_query_engine(\n",
    "    include_text=False, response_mode=\"tree_summarize\"\n",
    ")\n"
   ]
  },
  {
   "cell_type": "code",
   "execution_count": 65,
   "id": "3ebcd025-5097-4e2b-b677-f1af96d7ee85",
   "metadata": {
    "tags": []
   },
   "outputs": [
    {
     "name": "stdout",
     "output_type": "stream",
     "text": [
      "summary.html\n"
     ]
    },
    {
     "data": {
      "text/html": [
       "\n",
       "        <iframe\n",
       "            width=\"100%\"\n",
       "            height=\"600px\"\n",
       "            src=\"summary.html\"\n",
       "            frameborder=\"0\"\n",
       "            allowfullscreen\n",
       "            \n",
       "        ></iframe>\n",
       "        "
      ],
      "text/plain": [
       "<IPython.lib.display.IFrame at 0x15914f320>"
      ]
     },
     "execution_count": 65,
     "metadata": {},
     "output_type": "execute_result"
    }
   ],
   "source": [
    "summary_g = summary_index.get_networkx_graph()\n",
    "summary_net = Network(notebook=True, cdn_resources=\"in_line\", directed=True)\n",
    "summary_net.from_nx(summary_g)\n",
    "summary_net.show(\"summary.html\")"
   ]
  },
  {
   "cell_type": "code",
   "execution_count": 66,
   "id": "cea3b09a-8aa6-499a-ad9e-31e5c7ec8209",
   "metadata": {},
   "outputs": [],
   "source": [
    "summary_net.write_html(\"../../data/summary_output/summary_graph2.html\")"
   ]
  },
  {
   "cell_type": "code",
   "execution_count": 67,
   "id": "99dd0f90-e0a9-4f54-932b-34ba10c107e7",
   "metadata": {},
   "outputs": [],
   "source": [
    "summary_triplets = extract_triplets(summary_net)"
   ]
  },
  {
   "cell_type": "code",
   "execution_count": 68,
   "id": "7c04628a-4fca-4325-9b2b-1c73db9dc11c",
   "metadata": {},
   "outputs": [
    {
     "data": {
      "text/plain": [
       "[{'label': 'Announced', 'from': 'City council', 'to': 'Green initiative'},\n",
       " {'label': 'Designed to tackle',\n",
       "  'from': 'Green initiative',\n",
       "  'to': 'Air pollution'},\n",
       " {'label': 'Designed to enhance',\n",
       "  'from': 'Green initiative',\n",
       "  'to': 'Environmental sustainability'},\n",
       " {'label': 'Involves', 'from': 'Plan', 'to': 'Expanding bike lanes'},\n",
       " {'label': 'Involves',\n",
       "  'from': 'Plan',\n",
       "  'to': 'Boosting availability of electric vehicle charging stations'},\n",
       " {'label': 'Reduce', 'from': 'Plan', 'to': 'Public transportation services'},\n",
       " {'label': 'Highlighted', 'from': 'Mayor jane smith', 'to': 'Critical role'},\n",
       " {'label': 'Highlighted',\n",
       "  'from': 'Mayor jane smith',\n",
       "  'to': 'Critical role of community participation'},\n",
       " {'label': 'Ensures',\n",
       "  'from': 'Community participation',\n",
       "  'to': \"Initiative's success\"},\n",
       " {'label': 'Includes',\n",
       "  'from': 'Initiative',\n",
       "  'to': 'Controversial plan to reduce public transportation services'},\n",
       " {'label': 'Includes', 'from': 'Initiative', 'to': 'Controversial plan'},\n",
       " {'label': 'Raised concerns among', 'from': 'Initiative', 'to': 'Residents'},\n",
       " {'label': 'Raised concerns among',\n",
       "  'from': 'Controversial plan to reduce public transportation services',\n",
       "  'to': 'Residents'},\n",
       " {'label': 'Commence', 'from': 'Project', 'to': 'Next month'},\n",
       " {'label': 'Starting with',\n",
       "  'from': 'Project',\n",
       "  'to': 'Most polluted urban areas'}]"
      ]
     },
     "execution_count": 68,
     "metadata": {},
     "output_type": "execute_result"
    }
   ],
   "source": [
    "summary_triplets"
   ]
  },
  {
   "cell_type": "code",
   "execution_count": 69,
   "id": "e054e891-5f61-4087-9c09-689bb103ccd0",
   "metadata": {},
   "outputs": [],
   "source": [
    "with open(\"../../data/summary_output/summary_triplets2.txt\", \"w\") as fp:    \n",
    "    json.dump(summary_triplets, fp)"
   ]
  },
  {
   "cell_type": "markdown",
   "id": "369aa250-0d18-4e98-b7a5-9b1d67b3a1e0",
   "metadata": {},
   "source": [
    "#### Observations:\n",
    "1. Summary may not be completely extractive but abstractive in which case s-v-o kind of relation will never match\n",
    "2. If it is abstractive, use GENAI to find if node1 == node n\n",
    "3. Summary may not include less important facts like time, date etc which could be present in the context(and its graph)\n",
    "4. Relations/edges could be different in which case there is an extra effort to find the best matching relation"
   ]
  }
 ],
 "metadata": {
  "kernelspec": {
   "display_name": "Python 3 (ipykernel)",
   "language": "python",
   "name": "python3"
  },
  "language_info": {
   "codemirror_mode": {
    "name": "ipython",
    "version": 3
   },
   "file_extension": ".py",
   "mimetype": "text/x-python",
   "name": "python",
   "nbconvert_exporter": "python",
   "pygments_lexer": "ipython3",
   "version": "3.12.3"
  }
 },
 "nbformat": 4,
 "nbformat_minor": 5
}
